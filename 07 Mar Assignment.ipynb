{
 "cells": [
  {
   "cell_type": "code",
   "execution_count": null,
   "id": "b2e90050",
   "metadata": {},
   "outputs": [],
   "source": [
    "Q1. What are the three measures of central tendency? \n",
    "Ans1. The three measures of central tendency are:\n",
    "\n",
    "Mean: The arithmetic mean is the sum of all values in a dataset divided by the number of observations. It is the most commonly used measure of central tendency.\n",
    "Median: The median is the middle value in a dataset when all values are arranged in order from lowest to highest (or highest to lowest). Half of the observations in the dataset are above the median and half are below it.\n",
    "Mode: The mode is the value that appears most frequently in a dataset. It is not always applicable, as there may be more than one mode or no mode at all. The mode is often used to describe the shape of a distribution, especially in cases where the data is not normally distributed."
   ]
  },
  {
   "cell_type": "code",
   "execution_count": null,
   "id": "dbd07d7c",
   "metadata": {},
   "outputs": [],
   "source": [
    "Q2. What is the difference between the mean, median, and mode? How are they used to measure the  central tendency of a dataset? \n",
    "Ans2. The mean, median, and mode are all measures of central tendency used to describe the \"typical\" or \"central\" value of a dataset.\n",
    "The mean, median, and mode all describe the central tendency of a dataset, but they may be more or less appropriate depending on the distribution of the data and the presence of outliers. In practice, it is often useful to calculate all three measures to get a better understanding of the data."
   ]
  },
  {
   "cell_type": "code",
   "execution_count": null,
   "id": "06ddc1d0",
   "metadata": {},
   "outputs": [],
   "source": [
    "Q3. Measure the three measures of central tendency for the given height data:  [178,177,176,177,178.2,178,175,179,180,175,178.9,176.2,177,172.5,178,176.5] \n",
    "Ans3. Mean = Sum of all values / Number of values\n",
    "Median = Middle value of a sorted dataset\n",
    "Mode = Value that appears most frequently in a dataset\n",
    "\n",
    "First, let sort the data from lowest to highest:\n",
    "\n",
    "[172.5, 175, 175, 176, 176.2, 176.5, 177, 177, 178, 178, 178, 178.2, 178.9, 179, 180]\n",
    "\n",
    "Now, we can calculate the measures of central tendency:\n",
    "\n",
    "Mean = (172.5 + 175 + 175 + 176 + 176.2 + 176.5 + 177 + 177 + 178 + 178 + 178 + 178.2 + 178.9 + 179 + 180) / 15\n",
    "Mean = 176.9\n",
    "\n",
    "Median = (176.5 + 177) / 2\n",
    "Median = 176.75\n",
    "\n",
    "Mode = 178 (appears 4 times)\n",
    "\n",
    "Therefore, the mean height is 176.9 cm, the median height is 176.75 cm, and the mode height is 178 cm."
   ]
  },
  {
   "cell_type": "code",
   "execution_count": null,
   "id": "ad1acd25",
   "metadata": {},
   "outputs": [],
   "source": [
    "Q4. Find the standard deviation for the given data: \n",
    "[178,177,176,177,178.2,178,175,179,180,175,178.9,176.2,177,172.5,178,176.5] \n",
    "Ans4. Standard deviation = sqrt(sum of (x - mean)^2 / n)\n",
    "\n",
    "Where:\n",
    "\n",
    "x is the value of each data point\n",
    "mean is the mean of the dataset\n",
    "n is the number of observations\n",
    "First, let's calculate the mean height:\n",
    "\n",
    "Mean = (178 + 177 + 176 + 177 + 178.2 + 178 + 175 + 179 + 180 + 175 + 178.9 + 176.2 + 177 + 172.5 + 178 + 176.5) / 16\n",
    "Mean = 176.9\n",
    "\n",
    "Next, let's calculate the sum of (x - mean)^2:\n",
    "\n",
    "(178 - 176.9)^2 = 1.21\n",
    "(177 - 176.9)^2 = 0.01\n",
    "(176 - 176.9)^2 = 0.81\n",
    "(177 - 176.9)^2 = 0.01\n",
    "(178.2 - 176.9)^2 = 1.72\n",
    "(178 - 176.9)^2 = 1.21\n",
    "(175 - 176.9)^2 = 3.61\n",
    "(179 - 176.9)^2 = 4.41\n",
    "(180 - 176.9)^2 = 10.24\n",
    "(175 - 176.9)^2 = 3.61\n",
    "(178.9 - 176.9)^2 = 4.00\n",
    "(176.2 - 176.9)^2 = 0.51\n",
    "(177 - 176.9)^2 = 0.01\n",
    "(172.5 - 176.9)^2 = 18.06\n",
    "(178 - 176.9)^2 = 1.21\n",
    "(176.5 - 176.9)^2 = 0.16\n",
    "\n",
    "Now, we can calculate the standard deviation:\n",
    "\n",
    "Standard deviation = sqrt((1.21 + 0.01 + 0.81 + 0.01 + 1.72 + 1.21 + 3.61 + 4.41 + 10.24 + 3.61 + 4.00 + 0.51 + 0.01 + 18.06 + 1.21 + 0.16) / 16)\n",
    "Standard deviation = sqrt(60.72 / 16)\n",
    "Standard deviation = sqrt(3.795)\n",
    "Standard deviation = 1.948\n",
    "\n",
    "Therefore, the standard deviation of the given height data is approximately 1.948 cm."
   ]
  },
  {
   "cell_type": "code",
   "execution_count": null,
   "id": "57cec8c8",
   "metadata": {},
   "outputs": [],
   "source": [
    "Q5. How are measures of dispersion such as range, variance, and standard deviation used to describe  the spread of a dataset? Provide an example.\n",
    "Ans5. The range is the simplest measure of dispersion, and it represents the difference between the largest and smallest values in the dataset. However, it does not take into account the variability of the values between the largest and smallest values, so it may not be a good measure of dispersion for datasets with outliers or extreme values.\n",
    "\n",
    "The variance and standard deviation, on the other hand, take into account the variability of the values in the dataset. The variance is the average of the squared differences between each value and the mean of the dataset, while the standard deviation is the square root of the variance. The standard deviation is often preferred over the variance because it is expressed in the same units as the original data.\n",
    "\n",
    "For example, let's say we have a dataset of test scores for a class of 20 students: 70, 80, 85, 90, 92, 95, 96, 97, 98, 99, 100, 100, 100, 100, 100, 100, 100, 100, 100, 100. The mean test score is 92.5, which represents the central tendency of the dataset. However, we can also see that the values in the dataset are spread out over a wide range, from 70 to 100.\n",
    "\n",
    "The range of the dataset is 30, which is the difference between the largest and smallest values. However, this does not give us an idea of the variability of the scores between 70 and 100. The variance of the dataset is 113.75, which tells us that the scores vary quite a bit around the mean. The standard deviation is approximately 10.67, which tells us that the scores are on average about 10.67 points away from the mean.\n",
    "\n",
    "So, in this example, we can use the variance and standard deviation to describe the spread of the dataset and give us a better understanding of how the scores vary around the mean."
   ]
  },
  {
   "cell_type": "code",
   "execution_count": null,
   "id": "baa52409",
   "metadata": {},
   "outputs": [],
   "source": [
    "Q6. What is a Venn diagram? \n",
    "Ans6. A Venn diagram is a graphical representation of sets and their relationships. It consists of overlapping circles or other shapes, each representing a set. The diagram shows the common elements that belong to two or more sets and the unique elements that belong to each set."
   ]
  },
  {
   "cell_type": "code",
   "execution_count": null,
   "id": "8f4ff7d4",
   "metadata": {},
   "outputs": [],
   "source": [
    "Q7. For the two given sets A = (2,3,4,5,6,7) & B = (0,2,6,8,10). Find: \n",
    "(i)  A B \n",
    "(ii) A ⋃ B \n",
    "Ans7. (i) A ∩ B represents the intersection of sets A and B, or the elements that are common to both sets. In this case, the only element that is in both sets is 2. Therefore:\n",
    "\n",
    "A ∩ B = {2}\n",
    "\n",
    "(ii) A ⋃ B represents the union of sets A and B, or all the elements that are in either set. The elements in set A are 2, 3, 4, 5, 6, and 7, while the elements in set B are 0, 2, 6, 8, and 10. Therefore, the union of the two sets is:\n",
    "\n",
    "A ⋃ B = {0, 2, 3, 4, 5, 6, 7, 8, 10}\n",
    "even though the element 2 is in both sets A and B, it is only included once in the union A ⋃ B."
   ]
  },
  {
   "cell_type": "code",
   "execution_count": null,
   "id": "06c106ec",
   "metadata": {},
   "outputs": [],
   "source": [
    "Q8. What do you understand about skewness in data?\n",
    "Ans8.Skewness is a measure of the degree of asymmetry of a probability distribution. In data analysis, skewness refers to the extent to which a dataset is not symmetrical.\n",
    "A symmetrical dataset has a bell-shaped distribution, where the mean, median, and mode are all the same value and the data points are equally distributed around this central value."
   ]
  },
  {
   "cell_type": "code",
   "execution_count": null,
   "id": "c3cdd3bc",
   "metadata": {},
   "outputs": [],
   "source": [
    "Q9. If a data is right skewed then what will be the position of median with respect to mean? \n",
    "Ans9.If a dataset is right-skewed, the median will be less than the mean. This is because in a right-skewed dataset, there are more extreme values on the right side of the distribution (i.e., larger values) which pull the mean towards the right."
   ]
  },
  {
   "cell_type": "code",
   "execution_count": null,
   "id": "99261608",
   "metadata": {},
   "outputs": [],
   "source": [
    "Q10. Explain the difference between covariance and correlation. How are these measures used in  statistical analysis?\n",
    "Ans10.Covariance and correlation are two statistical measures used to describe the relationship between two variables. While both measures provide information on the direction of the relationship and the degree to which the variables vary together, they differ in their interpretation and scale.\n",
    "In statistical analysis, both covariance and correlation are used to identify patterns and relationships between variables. Covariance can help identify variables that may be related and useful in predictive models. However, correlation is typically used more frequently than covariance as it provides a standardized measure of the strength of the relationship between two variables that can be compared across different datasets."
   ]
  },
  {
   "cell_type": "code",
   "execution_count": null,
   "id": "efa8f093",
   "metadata": {},
   "outputs": [],
   "source": [
    "Q11. What is the formula for calculating the sample mean? Provide an example calculation for a  dataset. \n",
    "Ans11.The formula for calculating the sample mean is:\n",
    "\n",
    "sample mean = (sum of all values in the sample) / (number of values in the sample)\n",
    "\n",
    "In mathematical notation, it can be represented as:\n",
    "\n",
    "x̄ = (Σx) / n\n",
    "\n",
    "where x̄ is the sample mean, Σx is the sum of all values in the sample, and n is the number of values in the sample.\n",
    "\n",
    "Here is an example calculation of the sample mean for the dataset [2, 4, 6, 8, 10]:\n",
    "\n",
    "x̄ = (2 + 4 + 6 + 8 + 10) / 5\n",
    "\n",
    "x̄ = 30 / 5\n",
    "\n",
    "x̄ = 6\n",
    "\n",
    "Therefore, the sample mean of this dataset is 6."
   ]
  },
  {
   "cell_type": "code",
   "execution_count": null,
   "id": "a64ece7f",
   "metadata": {},
   "outputs": [],
   "source": [
    "Q12. For a normal distribution data what is the relationship between its measure of central tendency? \n",
    "Ans12.In a normal distribution, the data is symmetric around the central value, and the distribution curve is bell-shaped. As a result, the mean, median, and mode all converge to the same value at the center of the distribution. This is not always the case for non-normal distributions, where the measures of central tendency can differ from each other depending on the shape of the distribution."
   ]
  },
  {
   "cell_type": "code",
   "execution_count": null,
   "id": "b8b76943",
   "metadata": {},
   "outputs": [],
   "source": [
    "Q13. How is covariance different from correlation? \n",
    "Ans13.Covariance indicates the direction of the linear relationship between two variables and whether they tend to vary together or not, while correlation measures both the strength and direction of the linear relationship. Correlation is a standardized measure and is often preferred over covariance because it is not affected by the scale of the variables, making it easier to compare relationships between different pairs of variables."
   ]
  },
  {
   "cell_type": "code",
   "execution_count": null,
   "id": "511f61a0",
   "metadata": {},
   "outputs": [],
   "source": [
    "Q14. How do outliers affect measures of central tendency and dispersion? Provide an example?\n",
    "Ans14.Outliers can significantly affect measures of central tendency and dispersion, particularly the mean and standard deviation.\n",
    "\n",
    "The mean is sensitive to outliers because it is calculated by taking the sum of all values and dividing by the number of values. If there are extreme values in the dataset, the mean can be pulled towards them, resulting in a skewed representation of the typical values. For example, consider a dataset of test scores: 60, 70, 80, 85, 90, 95, and 100. The mean score is 82.9. However, if there was an outlier score of 50, the mean would be pulled down to 76.4, which would not accurately reflect the typical performance of the group.\n",
    "\n",
    "The standard deviation is also affected by outliers because it is based on the distance of each data point from the mean. Outliers can increase the distance of the mean from the rest of the data points, resulting in a larger standard deviation. For example, consider a dataset of salaries: $50,000, $55,000, $60,000, $65,000, $70,000, $75,000, and $1,000,000. The mean salary is $197,143, and the standard deviation is $359,781. However, if we remove the outlier salary of $1,000,000, the mean salary becomes $62,857 and the standard deviation becomes $8,730."
   ]
  }
 ],
 "metadata": {
  "kernelspec": {
   "display_name": "Python 3 (ipykernel)",
   "language": "python",
   "name": "python3"
  },
  "language_info": {
   "codemirror_mode": {
    "name": "ipython",
    "version": 3
   },
   "file_extension": ".py",
   "mimetype": "text/x-python",
   "name": "python",
   "nbconvert_exporter": "python",
   "pygments_lexer": "ipython3",
   "version": "3.9.13"
  }
 },
 "nbformat": 4,
 "nbformat_minor": 5
}
